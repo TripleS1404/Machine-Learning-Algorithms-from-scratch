{
 "cells": [
  {
   "cell_type": "code",
   "execution_count": 1,
   "id": "57204741-f3bb-41c3-bff5-223d8926ac51",
   "metadata": {},
   "outputs": [],
   "source": [
    "import numpy as np\n",
    "import matplotlib.pyplot as plt"
   ]
  },
  {
   "cell_type": "code",
   "execution_count": 9,
   "id": "8d557f4e-b108-4660-a504-ec12a2676f9f",
   "metadata": {},
   "outputs": [],
   "source": [
    "class LogisticRegression:\n",
    "    def __init__(self,lr=0.01,niters=1000):\n",
    "        self.lr=lr\n",
    "        self.niters=niters\n",
    "        self.weights=None\n",
    "        self.bias=None\n",
    "    def fit(self,x,y):\n",
    "        nsamples,nfeatures=x.shape\n",
    "        self.weights = np.zeros(nfeatures)\n",
    "        self.bias=0\n",
    "\n",
    "        for _ in range(self.niters):\n",
    "            linear_preds=np.dot(x,self.weights)+self.bias\n",
    "            preds=sigmoid(linear_preds)\n",
    "\n",
    "            dw=(1/nsamples)*np.dot(x.T,(preds-y))\n",
    "            db=(1/nsamples)*np.sum(preds-y)\n",
    "            self.weights=self.weights-self.lr*dw\n",
    "            self.bias=self.bias-self.lr*db      \n",
    "\n",
    "    def predict(self,x):\n",
    "        linear_preds=np.dot(x,self.weights)+self.bias\n",
    "        ypreds=sigmoid(linear_preds)\n",
    "        classpreds=[0 if y<=0.5 else 1 for y in ypreds]\n",
    "        return classpreds"
   ]
  },
  {
   "cell_type": "code",
   "execution_count": 13,
   "id": "3985eff8-e909-4baa-98be-d5510cc26a20",
   "metadata": {},
   "outputs": [],
   "source": [
    "def sigmoid(x):\n",
    "    return 1/(1+np.exp(-x))"
   ]
  },
  {
   "cell_type": "code",
   "execution_count": 3,
   "id": "5882d760-7a66-4532-9cba-323628ccc646",
   "metadata": {},
   "outputs": [],
   "source": [
    "from sklearn.model_selection import train_test_split\n",
    "from sklearn import datasets"
   ]
  },
  {
   "cell_type": "code",
   "execution_count": 4,
   "id": "bc189bfc-040c-44f1-b628-bff0bd2e1cd1",
   "metadata": {},
   "outputs": [],
   "source": [
    "bc=datasets.load_breast_cancer()\n",
    "x,y = bc.data, bc.target\n",
    "xtrain,xtest,ytrain,ytest = train_test_split(x,y,test_size=0.2,random_state=1234)"
   ]
  },
  {
   "cell_type": "code",
   "execution_count": 14,
   "id": "cf27ed36-5074-44fe-b7d2-61e4075097ec",
   "metadata": {},
   "outputs": [
    {
     "name": "stderr",
     "output_type": "stream",
     "text": [
      "C:\\Users\\HP\\AppData\\Local\\Temp\\ipykernel_2060\\4033946986.py:2: RuntimeWarning: overflow encountered in exp\n",
      "  return 1/(1+np.exp(-x))\n"
     ]
    }
   ],
   "source": [
    "LR=LogisticRegression()\n",
    "LR.fit(xtrain,ytrain)\n",
    "ypred=LR.predict(xtest)"
   ]
  },
  {
   "cell_type": "code",
   "execution_count": null,
   "id": "fd0b3b41-6c91-4e00-a2c8-6cac595955e2",
   "metadata": {},
   "outputs": [],
   "source": [
    "def p"
   ]
  }
 ],
 "metadata": {
  "kernelspec": {
   "display_name": "Python 3.12 (Torch)",
   "language": "python",
   "name": "python312"
  },
  "language_info": {
   "codemirror_mode": {
    "name": "ipython",
    "version": 3
   },
   "file_extension": ".py",
   "mimetype": "text/x-python",
   "name": "python",
   "nbconvert_exporter": "python",
   "pygments_lexer": "ipython3",
   "version": "3.12.1"
  }
 },
 "nbformat": 4,
 "nbformat_minor": 5
}
